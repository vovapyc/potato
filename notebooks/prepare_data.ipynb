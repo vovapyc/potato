{
 "cells": [
  {
   "cell_type": "code",
   "execution_count": null,
   "id": "54633d49",
   "metadata": {},
   "outputs": [],
   "source": [
    "!pip3 install bing-image-downloader icrawler"
   ]
  },
  {
   "cell_type": "code",
   "execution_count": null,
   "id": "bb758f07",
   "metadata": {},
   "outputs": [],
   "source": [
    "from icrawler.builtin import BingImageCrawler\n",
    "\n",
    "crawler = BingImageCrawler(storage={'root_dir': 'potato_dataset/potato'})\n",
    "crawler.crawl(keyword='potato', max_num=100)"
   ]
  },
  {
   "cell_type": "code",
   "execution_count": null,
   "id": "0a8a455b",
   "metadata": {},
   "outputs": [],
   "source": [
    "from icrawler.builtin import BingImageCrawler\n",
    "import os\n",
    "\n",
    "categories = [\n",
    "    \"apple\", \"car\", \"dog\", \"chair\", \"shoe\",\n",
    "    \"rock\", \"tree\", \"laptop\", \"cup\", \"burger\"\n",
    "]\n",
    "\n",
    "save_dir = 'potato_dataset/not_potato'\n",
    "os.makedirs(save_dir, exist_ok=True)\n",
    "\n",
    "for category in categories:\n",
    "    # Different folder for each category temporarily\n",
    "    category_dir = os.path.join(save_dir, category)\n",
    "    os.makedirs(category_dir, exist_ok=True)\n",
    "    \n",
    "    crawler = BingImageCrawler(storage={'root_dir': category_dir})\n",
    "    crawler.crawl(keyword=category, max_num=10)\n"
   ]
  },
  {
   "cell_type": "code",
   "execution_count": null,
   "id": "672ec408",
   "metadata": {},
   "outputs": [],
   "source": [
    "import shutil\n",
    "\n",
    "root_dir = 'potato_dataset/not_potato'\n",
    "\n",
    "counter = 0  # to create unique filenames\n",
    "\n",
    "for subfolder in os.listdir(root_dir):\n",
    "    subfolder_path = os.path.join(root_dir, subfolder)\n",
    "    \n",
    "    if os.path.isdir(subfolder_path):\n",
    "        for filename in os.listdir(subfolder_path):\n",
    "            file_path = os.path.join(subfolder_path, filename)\n",
    "            if os.path.isfile(file_path):\n",
    "                new_filename = f\"{counter:06d}.jpg\"  # 000001.jpg, 000002.jpg, ...\n",
    "                new_file_path = os.path.join(root_dir, new_filename)\n",
    "                shutil.move(file_path, new_file_path)\n",
    "                counter += 1\n",
    "\n",
    "        # After moving all files, remove empty subfolder\n",
    "        os.rmdir(subfolder_path)\n"
   ]
  }
 ],
 "metadata": {
  "language_info": {
   "name": "python"
  }
 },
 "nbformat": 4,
 "nbformat_minor": 5
}
