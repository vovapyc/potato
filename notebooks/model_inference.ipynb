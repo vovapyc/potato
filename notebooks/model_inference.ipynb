{
 "cells": [
  {
   "cell_type": "code",
   "execution_count": 6,
   "id": "92f17c14",
   "metadata": {},
   "outputs": [],
   "source": [
    "import numpy as np\n",
    "import onnxruntime as ort\n",
    "from PIL import Image\n",
    "\n",
    "class PotatoPredictor:\n",
    "    def __init__(self, model_path):\n",
    "        self.session = ort.InferenceSession(model_path)\n",
    "    \n",
    "    def preprocess(self, image_path):\n",
    "        img = Image.open(image_path).convert(\"RGB\")\n",
    "        img = img.resize((384, 384))\n",
    "        arr = np.asarray(img).astype(np.float32) / 255.0\n",
    "        arr = np.transpose(arr, (2, 0, 1))  # (C, H, W)\n",
    "        arr = np.expand_dims(arr, axis=0)  # (1, C, H, W)\n",
    "        return arr\n",
    "    \n",
    "    def predict(self, image_path, threshold=0.5):\n",
    "        input_array = self.preprocess(image_path)\n",
    "        input_name = self.session.get_inputs()[0].name\n",
    "        output = self.session.run(None, {input_name: input_array})\n",
    "        logit = output[0][0][0]\n",
    "        prob = 1 / (1 + np.exp(-logit))\n",
    "        is_potato = prob > threshold\n",
    "        return is_potato, prob"
   ]
  },
  {
   "cell_type": "code",
   "execution_count": 17,
   "id": "4e97bdf4",
   "metadata": {},
   "outputs": [
    {
     "name": "stdout",
     "output_type": "stream",
     "text": [
      "The image is not a potato with probability 0.76\n"
     ]
    }
   ],
   "source": [
    "#example usage\n",
    "if __name__ == \"__main__\":\n",
    "    model_path = \"./quantized_model.onnx\"\n",
    "    image_path = \"./potato_dataset/not_potato/000016.jpg\"\n",
    "    \n",
    "    predictor = PotatoPredictor(model_path)\n",
    "    is_potato, prob = predictor.predict(image_path)\n",
    "    \n",
    "    if is_potato:\n",
    "        print(f\"The image is a potato with probability {prob:.2f}\")\n",
    "    else:\n",
    "        print(f\"The image is not a potato with probability {1- prob:.2f}\")"
   ]
  }
 ],
 "metadata": {
  "kernelspec": {
   "display_name": ".venv",
   "language": "python",
   "name": "python3"
  },
  "language_info": {
   "codemirror_mode": {
    "name": "ipython",
    "version": 3
   },
   "file_extension": ".py",
   "mimetype": "text/x-python",
   "name": "python",
   "nbconvert_exporter": "python",
   "pygments_lexer": "ipython3",
   "version": "3.13.3"
  }
 },
 "nbformat": 4,
 "nbformat_minor": 5
}
